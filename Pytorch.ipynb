{
  "nbformat": 4,
  "nbformat_minor": 0,
  "metadata": {
    "colab": {
      "provenance": [],
      "authorship_tag": "ABX9TyMOAq9wb5TSDIYeA96HZcmb",
      "include_colab_link": true
    },
    "kernelspec": {
      "name": "python3",
      "display_name": "Python 3"
    },
    "language_info": {
      "name": "python"
    }
  },
  "cells": [
    {
      "cell_type": "markdown",
      "metadata": {
        "id": "view-in-github",
        "colab_type": "text"
      },
      "source": [
        "<a href=\"https://colab.research.google.com/github/robertobiero/Pytorch1/blob/main/Pytorch.ipynb\" target=\"_parent\"><img src=\"https://colab.research.google.com/assets/colab-badge.svg\" alt=\"Open In Colab\"/></a>"
      ]
    },
    {
      "cell_type": "markdown",
      "source": [
        "# New Section"
      ],
      "metadata": {
        "id": "KKFugsn9-n80"
      }
    },
    {
      "cell_type": "code",
      "execution_count": null,
      "metadata": {
        "colab": {
          "base_uri": "https://localhost:8080/"
        },
        "id": "WfyAcbkm8f9L",
        "outputId": "559f683f-079e-42fc-90e5-82efd100e8ae"
      },
      "outputs": [
        {
          "output_type": "execute_result",
          "data": {
            "text/plain": [
              "tensor([1., 2., 3., 4., 5., 6., 7., 8., 9.])"
            ]
          },
          "metadata": {},
          "execution_count": 19
        }
      ],
      "source": [
        "import torch\n",
        "torch.__version__\n",
        "\n",
        "\n",
        "\n",
        "\n",
        "\n",
        "# Scalar\n",
        "scalar = torch.tensor(7)\n",
        "scalar\n",
        "\n",
        "\n",
        "vector = torch.tensor([7, 7])\n",
        "vector\n",
        "\n",
        "\n",
        "matrix = torch.tensor([[ 7, 7], [8, 8 ]])\n",
        "\n",
        "matrix.ndim\n",
        "\n",
        "\n",
        "\n",
        "tensor = torch.tensor([[[1,2,3],\n",
        "               [4,5,6],\n",
        "               [7,8,9]]])\n",
        "\n",
        "tensor.ndim\n",
        "tensor.size\n",
        "\n",
        "\n",
        "torch.rand(5,5,5) #-> (depth, rows, columns) depth is the number of individuals in the data set we have 5 people , 5 results and 5 features\n",
        "\n",
        "\n",
        "ones = torch.ones(size = (3, 4))\n",
        "\n",
        "ones\n",
        "\n",
        "\n",
        "# Tensor Operations\n",
        "# one of the most common errors in deep learning is shape errors when multiplying\n",
        "\n",
        "rand = torch.rand(3,2)\n",
        "rand2 = torch.rand(5,2)\n",
        "\n",
        "\n",
        "# the above multiplication will not work here are some rules for matrix multiplication\n",
        "  # (3, 2)(2, 4)  multiplication will work since inner dimensions match resulting in a 3 * 4 matrix\n",
        "  # so the  number of columns in first matrix shoudl match number of rows in second column\n",
        "\n",
        "\n",
        "\n",
        "# to fix tensor shape errror isssues we can change the shape of the tensor in real time by transposing\n",
        "\n",
        "rand2.T #transposing changes rand2 from a (5, 2) matrix to a (2, 5) matrix\n",
        "\n",
        "\n",
        "# finding position of the min and max  using argmin and argmax\n",
        "\n",
        "tenums = torch.rand(1, 16)\n",
        "\n",
        "tenmin = tenums.argmin()\n",
        "\n",
        "tenmin\n",
        "\n",
        "\n",
        "# we can also reshape a tensor\n",
        "\n",
        "x = torch.arange(1., 10.)\n",
        "\n",
        "x_reshaped = x.reshape(9, 1) # reshape to a 9 row 1 column\n",
        "\n",
        "x"
      ]
    },
    {
      "cell_type": "code",
      "source": [],
      "metadata": {
        "id": "GAyxiyFXls1L"
      },
      "execution_count": null,
      "outputs": []
    }
  ]
}